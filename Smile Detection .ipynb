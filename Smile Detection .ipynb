{
 "cells": [
  {
   "cell_type": "code",
   "execution_count": 1,
   "id": "ed594f78",
   "metadata": {},
   "outputs": [],
   "source": [
    "#import libraries\n",
    "import cv2"
   ]
  },
  {
   "cell_type": "code",
   "execution_count": 2,
   "id": "c9db479a",
   "metadata": {},
   "outputs": [],
   "source": [
    "# step 1: Identify your webcam\n",
    "webcam = cv2.VideoCapture(0) # 1- is for external webcam while 0 is for local webcam"
   ]
  },
  {
   "cell_type": "code",
   "execution_count": 3,
   "id": "d1d68931",
   "metadata": {},
   "outputs": [],
   "source": [
    "# Step 3: Leverage Haarcascade\n",
    "face_cascade = cv2.CascadeClassifier(cv2.data.haarcascades + \"haarcascade_frontalface_default.xml\")\n",
    "eye_cascade = cv2.CascadeClassifier(cv2.data.haarcascades + \"haarcascade_eye.xml\")\n",
    "smile_cascade = cv2.CascadeClassifier(cv2.data.haarcascades + \"haarcascade_smile.xml\")"
   ]
  },
  {
   "cell_type": "code",
   "execution_count": 4,
   "id": "ff7e6bf9",
   "metadata": {},
   "outputs": [],
   "source": [
    "# Step 4: Create a function that will detect faces and draw a box around the face\n",
    "def detect(gray, frame):\n",
    "    faces = face_cascade.detectMultiScale(gray, 1.3, 5)\n",
    "    for (x,y,w,h) in faces:\n",
    "        cv2.rectangle(frame, (x,y), (x+w, y+h), (255,255,6), 5)\n",
    "        roi_gray = gray[y:y+h, x:x+w]\n",
    "        roi_color = frame[y:y+h, x:x+w]\n",
    "        \n",
    "       \n",
    "        #Smile Detection\n",
    "        smile = smile_cascade.detectMultiScale(roi_gray, 1.7, 22)\n",
    "        for (sx,sy,sw,sh) in smile:\n",
    "            cv2.rectangle(roi_color, (sx,sy), (sx+sw, sy+sh), (0,21,255), 3)\n",
    "    return frame"
   ]
  },
  {
   "cell_type": "code",
   "execution_count": 5,
   "id": "d81eaa93",
   "metadata": {},
   "outputs": [],
   "source": [
    "# Step 2: switch on webcam\n",
    "while True:\n",
    "    _, frame = webcam.read()\n",
    "    \n",
    "    gray = cv2.cvtColor(frame, cv2.COLOR_BGR2GRAY) # Convert the frame into black and white\n",
    "    \n",
    "    display = detect(gray, frame)\n",
    "    \n",
    "    cv2.imshow(\"10Alytics Smile Detection\", display)\n",
    "    if cv2.waitKey(1) & 0xff == ord(\"a\"):\n",
    "        break\n",
    "webcam.release()\n",
    "cv2.destroyAllWindows()"
   ]
  },
  {
   "cell_type": "code",
   "execution_count": null,
   "id": "f0af07c7",
   "metadata": {},
   "outputs": [],
   "source": []
  }
 ],
 "metadata": {
  "kernelspec": {
   "display_name": "Python 3 (ipykernel)",
   "language": "python",
   "name": "python3"
  },
  "language_info": {
   "codemirror_mode": {
    "name": "ipython",
    "version": 3
   },
   "file_extension": ".py",
   "mimetype": "text/x-python",
   "name": "python",
   "nbconvert_exporter": "python",
   "pygments_lexer": "ipython3",
   "version": "3.9.12"
  }
 },
 "nbformat": 4,
 "nbformat_minor": 5
}
